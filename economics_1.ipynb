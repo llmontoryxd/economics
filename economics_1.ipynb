{
 "cells": [
  {
   "cell_type": "code",
   "execution_count": 4,
   "metadata": {},
   "outputs": [
    {
     "name": "stdout",
     "output_type": "stream",
     "text": [
      "NPV1.1 =  94.61798057072644\n",
      "NPV2.1 =  47.06876922375113\n",
      "NPV3.1 =  37.06974951980055\n",
      "NPV4.1 =  76.27673854533772\n",
      "NPV5.1 =  75.79629642211357\n",
      "\n",
      "NPV1.2 =  55.22163786626592\n",
      "NPV2.2 =  25.9203606311044\n",
      "NPV3.2 =  16.00300525920359\n",
      "NPV4.2 =  48.68519909842222\n",
      "NPV5.2 =  45.3042824943651\n"
     ]
    }
   ],
   "source": [
    "import numpy as np\n",
    "\n",
    "def NPV(D, S, r) :\n",
    "    pos = 0\n",
    "    neg = 0\n",
    "    \n",
    "    div = 1\n",
    "    for i in range(np.size(D)) : \n",
    "        pos = pos + D[i] / div\n",
    "        div = div * (1+r)\n",
    "        \n",
    "    div = 1\n",
    "    for i in range(np.size(S)) : \n",
    "        neg = neg + S[i] / div\n",
    "        div = div * (1+r)\n",
    "        \n",
    "    return pos - neg\n",
    "\n",
    "print('NPV1.1 = ', NPV(np.array([0, 0, 50, 200]), \n",
    "                     np.array([0, 150, 0, 0]),\n",
    "                     0.01))\n",
    "print('NPV2.1 = ', NPV(np.array([0, 0, 0, 150]), \n",
    "                     np.array([0, 50, 50, 0]),\n",
    "                     0.01))\n",
    "print('NPV3.1 = ', NPV(np.array([0, 0, 0, 150]), \n",
    "                     np.array([0, 70, 40, 0]),\n",
    "                     0.01))\n",
    "print('NPV4.1 = ', NPV(np.array([0, 0, 100, 100]), \n",
    "                     np.array([0, 120, 0, 0]),\n",
    "                     0.01))\n",
    "print('NPV5.1 = ', NPV(np.array([0, 0, 0, 200]), \n",
    "                     np.array([0, 70, 50, 0]),\n",
    "                     0.01))\n",
    "\n",
    "print('')\n",
    "\n",
    "print('NPV1.2 = ', NPV(np.array([0, 0, 50, 200]), \n",
    "                     np.array([0, 150, 0, 0]),\n",
    "                     0.1))\n",
    "print('NPV2.2 = ', NPV(np.array([0, 0, 0, 150]), \n",
    "                     np.array([0, 50, 50, 0]),\n",
    "                     0.1))\n",
    "print('NPV3.2 = ', NPV(np.array([0, 0, 0, 150]), \n",
    "                     np.array([0, 70, 40, 0]),\n",
    "                     0.1))\n",
    "print('NPV4.2 = ', NPV(np.array([0, 0, 100, 100]), \n",
    "                     np.array([0, 120, 0, 0]),\n",
    "                     0.1))\n",
    "print('NPV5.2 = ', NPV(np.array([0, 0, 0, 200]), \n",
    "                     np.array([0, 70, 50, 0]),\n",
    "                     0.1))\n"
   ]
  },
  {
   "cell_type": "code",
   "execution_count": null,
   "metadata": {},
   "outputs": [],
   "source": []
  }
 ],
 "metadata": {
  "kernelspec": {
   "display_name": "Python 3",
   "language": "python",
   "name": "python3"
  },
  "language_info": {
   "codemirror_mode": {
    "name": "ipython",
    "version": 3
   },
   "file_extension": ".py",
   "mimetype": "text/x-python",
   "name": "python",
   "nbconvert_exporter": "python",
   "pygments_lexer": "ipython3",
   "version": "3.8.5"
  }
 },
 "nbformat": 4,
 "nbformat_minor": 4
}
